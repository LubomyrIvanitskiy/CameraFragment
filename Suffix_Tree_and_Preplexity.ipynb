{
  "nbformat": 4,
  "nbformat_minor": 0,
  "metadata": {
    "colab": {
      "name": "Suffix Tree and Preplexity.ipynb",
      "provenance": [],
      "authorship_tag": "ABX9TyMhP4I+lFvBdJbQh/DvEfOf",
      "include_colab_link": true
    },
    "kernelspec": {
      "name": "python3",
      "display_name": "Python 3"
    }
  },
  "cells": [
    {
      "cell_type": "markdown",
      "metadata": {
        "id": "view-in-github",
        "colab_type": "text"
      },
      "source": [
        "<a href=\"https://colab.research.google.com/github/LubomyrIvanitskiy/CameraFragment/blob/master/Suffix_Tree_and_Preplexity.ipynb\" target=\"_parent\"><img src=\"https://colab.research.google.com/assets/colab-badge.svg\" alt=\"Open In Colab\"/></a>"
      ]
    },
    {
      "cell_type": "code",
      "metadata": {
        "id": "EQtGFxb85T58",
        "outputId": "bac71265-d1ff-400d-8422-428956623b71",
        "colab": {
          "base_uri": "https://localhost:8080/"
        }
      },
      "source": [
        "# https://rosettacode.org/wiki/Suffix_tree#Python\n",
        "\n",
        "class Node:\n",
        "    def __init__(self, sub=\"\", children=None):\n",
        "        self.sub = sub\n",
        "        self.ch = children or []\n",
        " \n",
        "class SuffixTree:\n",
        "    def __init__(self, str):\n",
        "        self.nodes = [Node()]\n",
        "        for i in range(len(str)):\n",
        "            self.addSuffix(str[i:])\n",
        " \n",
        "    def addSuffix(self, suf):\n",
        "        n = 0\n",
        "        i = 0\n",
        "        while i < len(suf):\n",
        "            b = suf[i]\n",
        "            x2 = 0\n",
        "            while True:\n",
        "                children = self.nodes[n].ch\n",
        "                if x2 == len(children):\n",
        "                    # no matching child, remainder of suf becomes new node\n",
        "                    n2 = len(self.nodes)\n",
        "                    self.nodes.append(Node(suf[i:], []))\n",
        "                    self.nodes[n].ch.append(n2)\n",
        "                    return\n",
        "                n2 = children[x2]\n",
        "                if self.nodes[n2].sub[0] == b:\n",
        "                    break\n",
        "                x2 = x2 + 1\n",
        " \n",
        "            # find prefix of remaining suffix in common with child\n",
        "            sub2 = self.nodes[n2].sub\n",
        "            j = 0\n",
        "            while j < len(sub2):\n",
        "                if suf[i + j] != sub2[j]:\n",
        "                    # split n2\n",
        "                    n3 = n2\n",
        "                    # new node for the part in common\n",
        "                    n2 = len(self.nodes)\n",
        "                    self.nodes.append(Node(sub2[:j], [n3]))\n",
        "                    self.nodes[n3].sub = sub2[j:] # old node loses the part in common\n",
        "                    self.nodes[n].ch[x2] = n2\n",
        "                    break # continue down the tree\n",
        "                j = j + 1\n",
        "            i = i + j   # advance past part in common\n",
        "            n = n2      # continue down the tree\n",
        " \n",
        "    def visualize(self):\n",
        "        if len(self.nodes) == 0:\n",
        "            print(\"<empty>\")\n",
        "            return\n",
        " \n",
        "        def f(n, pre):\n",
        "            children = self.nodes[n].ch\n",
        "            if len(children) == 0:\n",
        "                print(\"--\", self.nodes[n].sub)\n",
        "                return\n",
        "            print(\"+-\", self.nodes[n].sub)\n",
        "            for c in children[:-1]:\n",
        "                print(pre, \"+-\", f(c, pre + \" | \"))\n",
        "            print(pre, \"+-\", f(children[-1], pre + \"  \"))\n",
        " \n",
        "        f(0, \"\")\n",
        " \n",
        "SuffixTree(\"banana$\").visualize()"
      ],
      "execution_count": 5,
      "outputs": [
        {
          "output_type": "stream",
          "text": [
            "+- \n",
            "-- banana$\n",
            " +- None\n",
            "+- a\n",
            "+- na\n",
            "-- na$\n",
            " |  |  +- None\n",
            "-- $\n",
            " |  |  +- None\n",
            " |  +- None\n",
            "-- $\n",
            " |  +- None\n",
            " +- None\n",
            "+- na\n",
            "-- na$\n",
            " |  +- None\n",
            "-- $\n",
            " |  +- None\n",
            " +- None\n",
            "-- $\n",
            " +- None\n"
          ],
          "name": "stdout"
        }
      ]
    }
  ]
}